{
 "cells": [
  {
   "cell_type": "markdown",
   "id": "289f9699",
   "metadata": {},
   "source": [
    "#  1. What data type is each of the following (evaluate where necessary)?"
   ]
  },
  {
   "cell_type": "markdown",
   "id": "01aceaf5",
   "metadata": {},
   "source": [
    "5 - Integer\n",
    "\n",
    "5.0 - Float\n",
    "\n",
    "5 > 1 - Boolean\n",
    "\n",
    "'5' - Character\n",
    "\n",
    "5 * 2 - Integer\n",
    "\n",
    "'5' * 2 - String\n",
    "\n",
    "'5' + '2' - String\n",
    "\n",
    "5 / 2 - Float\n",
    "\n",
    "5 % 2 - Integer\n",
    "\n",
    "{5, 2, 1} - Set\n",
    "\n",
    "5 == 3 - Boolean\n",
    "\n",
    "Pi (the number) - Double Float\n"
   ]
  },
  {
   "cell_type": "markdown",
   "id": "0df5579d",
   "metadata": {},
   "source": [
    "# 2. Write (and evaluate) python expressions that answer these questions?"
   ]
  },
  {
   "cell_type": "markdown",
   "id": "7a0544d9",
   "metadata": {},
   "source": [
    "## a. How many letters are there in 'Supercalifragilisticexpialidocious'?"
   ]
  },
  {
   "cell_type": "code",
   "execution_count": 1,
   "id": "d2bf8694",
   "metadata": {},
   "outputs": [
    {
     "name": "stdout",
     "output_type": "stream",
     "text": [
      "34\n"
     ]
    }
   ],
   "source": [
    "z = \"Supercalifragilisticexpialidocious\"\n",
    "print(len(z))\n"
   ]
  },
  {
   "cell_type": "markdown",
   "id": "62168240",
   "metadata": {},
   "source": [
    "## b. Does 'Supercalifragilisticexpialidocious' contain 'ice' as a substring?"
   ]
  },
  {
   "cell_type": "code",
   "execution_count": 5,
   "id": "771743c0",
   "metadata": {},
   "outputs": [
    {
     "name": "stdout",
     "output_type": "stream",
     "text": [
      "found\n"
     ]
    }
   ],
   "source": [
    "z = \"Supercalifragilisticexpialidocious\"\n",
    "x = \"ice\"\n",
    "if x in z:\n",
    "    print(\"found\")\n",
    "else:\n",
    "    print(\"not found\")"
   ]
  },
  {
   "cell_type": "markdown",
   "id": "f620706a",
   "metadata": {},
   "source": [
    "## c. Which of the following words is the longest: Supercalifragilisticexpialidocious, Honorificabilitudinitatibus, or Bababadalgharaghtakamminarronnkonn? "
   ]
  },
  {
   "cell_type": "code",
   "execution_count": 6,
   "id": "4fc960f0",
   "metadata": {},
   "outputs": [
    {
     "name": "stdout",
     "output_type": "stream",
     "text": [
      "Supercalifragilisticexpialidocious and Bababadalgharaghtakamminarronnkonn are longest\n"
     ]
    }
   ],
   "source": [
    "s1 = \"Supercalifragilisticexpialidocious\"\n",
    "s2 = \"Honorificabilitudinitatibus\"\n",
    "s3 = \"Bababadalgharaghtakamminarronnkonn\"\n",
    "x  = len((s1))\n",
    "y  = len((s2))\n",
    "z  = len((s3))\n",
    "if (x>y) and (x>z):\n",
    "    print(s1, 'is the longest')\n",
    "elif (y>x) and (y>z):\n",
    "    print(s2, 'is the longest')\n",
    "elif (z>x) and (z>y):\n",
    "    print(s3, 'is the longest')\n",
    "elif (x==y):\n",
    "    print(s1, 'and', s2, 'are longest')\n",
    "elif (x==z):\n",
    "    print(s1, 'and', s3, 'are longest')\n",
    "elif (y==z):\n",
    "    print(s2, 'and', s3, 'are longest')\n",
    "else:\n",
    "    print(\"all are equal and longest\")\n",
    "    \n"
   ]
  },
  {
   "cell_type": "markdown",
   "id": "23183967",
   "metadata": {},
   "source": [
    "## d. Which composer comes first in the dictionary: 'Berlioz', 'Borodin', 'Brian', 'Bartok', 'Bellini', 'Buxtehude', 'Bernstein'. Which one comes last?\n"
   ]
  },
  {
   "cell_type": "code",
   "execution_count": 1,
   "id": "b08b9fce",
   "metadata": {},
   "outputs": [
    {
     "name": "stdout",
     "output_type": "stream",
     "text": [
      "Bartok is the first\n",
      "Buxtehude is the last\n"
     ]
    }
   ],
   "source": [
    "z = ['Berlioz', 'Borodin', 'Brian', 'Bartok', 'Bellini','Buxtehude', 'Bernstein']\n",
    "z.sort()\n",
    "print(z[0], 'is the first')\n",
    "print(z[6], 'is the last')"
   ]
  },
  {
   "cell_type": "markdown",
   "id": "dd7d8dc4",
   "metadata": {},
   "source": [
    "# 3. Implement function triangleArea(a,b,c) that takes as input the lengths of the 3sides of a triangle and returns the area of the triangle. By Heron's formula, the area of a triangle with side lengths a, b, and c is s(s - a)(s -b)(s -c), where s = (a+b+c)/2. "
   ]
  },
  {
   "cell_type": "code",
   "execution_count": 14,
   "id": "9759b816",
   "metadata": {},
   "outputs": [
    {
     "name": "stdout",
     "output_type": "stream",
     "text": [
      "enter side a2\n",
      "enter side b2\n",
      "enter side c2\n",
      "area of triangle is 1.7320508075688772\n"
     ]
    }
   ],
   "source": [
    "import math\n",
    "a = float(input ('enter side a'))\n",
    "#print(a)\n",
    "b = float(input ('enter side b'))\n",
    "#print(b)\n",
    "c = float(input ('enter side c'))\n",
    "#print(c)\n",
    "s = (a + b + c)//2\n",
    "area = math.sqrt(s*(s-a)*(s-b)*(s-c))\n",
    "print('area of triangle is', area)\n",
    "                 \n",
    "\n",
    "          \n",
    "          "
   ]
  },
  {
   "cell_type": "markdown",
   "id": "5ad6551f",
   "metadata": {},
   "source": [
    "# 4. Write a program in python to separate odd and even integers in separate arrays."
   ]
  },
  {
   "cell_type": "code",
   "execution_count": 25,
   "id": "ccb49f33",
   "metadata": {},
   "outputs": [
    {
     "name": "stdout",
     "output_type": "stream",
     "text": [
      "How many elements in list - 5\n",
      "Please enter the Value of 1 Element :- 25\n",
      "Please enter the Value of 2 Element :- 47\n",
      "Please enter the Value of 3 Element :- 42\n",
      "Please enter the Value of 4 Element :- 56\n",
      "Please enter the Value of 5 Element :- 32\n",
      "\n",
      " Element in Even List is :  [42, 56, 32]\n",
      "\n",
      " Element in Odd List is :  [25, 47]\n"
     ]
    }
   ],
   "source": [
    "NumList = []\n",
    "Odd = []\n",
    "Even = []\n",
    "Number = int(input(\"How many elements in list - \"))\n",
    "for z in range(1, Number + 1):\n",
    "    value = int(input(\"Please enter the Value of %d Element :- \" %z))\n",
    "    NumList.append(value)\n",
    " \n",
    "for q in range(Number):\n",
    "    if(NumList[q] % 2 == 0):\n",
    "        Even.append(NumList[q])\n",
    "    else:\n",
    "        Odd.append(NumList[q])\n",
    " \n",
    "print(\"\\n Element in Even List is : \", Even)\n",
    "print(\"\\n Element in Odd List is : \", Odd)\n",
    "\n"
   ]
  },
  {
   "cell_type": "markdown",
   "id": "ae16850d",
   "metadata": {},
   "source": [
    "# 5.  a.Write a function inside(x,y,x1,y1,x2,y2) that returns True or False depending on whether the point (x,y) lies in the rectangle with lower left corner (x1,y1) and upper right corner (x2,y2).\n"
   ]
  },
  {
   "cell_type": "code",
   "execution_count": 27,
   "id": "e0085ba6",
   "metadata": {},
   "outputs": [
    {
     "name": "stdout",
     "output_type": "stream",
     "text": [
      "-1\n",
      "-1\n",
      "0\n",
      "0\n",
      "2\n",
      "3\n",
      "False\n"
     ]
    }
   ],
   "source": [
    "def FindPoint(x1, y1, x2,\n",
    "              y2, x, y) :\n",
    "    if (x > x1 and x < x2 and\n",
    "        y > y1 and y < y2) :\n",
    "        return True\n",
    "    else :\n",
    "        return False\n",
    " \n",
    "\n",
    " \n",
    "    # bottom-left and top-right\n",
    "    # corners of rectangle.\n",
    "    # use multiple assignment\n",
    "x=int(input())\n",
    "y=int(input())\n",
    "x1=int(input())\n",
    "y1=int(input())\n",
    "x2=int(input())\n",
    "y2=int(input())\n",
    "FindPoint(x1, y1, x2,\n",
    "              y2, x, y) \n",
    "print(FindPoint(x1, y1, x2,\n",
    "              y2, x, y))"
   ]
  },
  {
   "cell_type": "markdown",
   "id": "bf0c67ca",
   "metadata": {},
   "source": [
    "# b Use function inside() from part a. to write an expression that tests whether the point (1,1) lies in both of the following rectangles: one with lower left corner (0.3, 0.5) and upper right corner (1.1, 0.7) and the other with lower left corner (0.5, 0.2) and upper right corner (1.1, 2). "
   ]
  },
  {
   "cell_type": "code",
   "execution_count": 30,
   "id": "d3f57037",
   "metadata": {},
   "outputs": [
    {
     "name": "stdout",
     "output_type": "stream",
     "text": [
      "1\n",
      "1\n",
      "0.3\n",
      "0.5\n",
      "1.1\n",
      "0.7\n",
      "False\n"
     ]
    }
   ],
   "source": [
    "def FindPoint(x1, y1, x2,\n",
    "              y2, x, y) :\n",
    "    if (x > x1 and x < x2 and\n",
    "        y > y1 and y < y2) :\n",
    "        return True\n",
    "    else :\n",
    "        return False\n",
    " \n",
    "\n",
    " \n",
    "    # bottom-left and top-right\n",
    "    # corners of rectangle.\n",
    "    # use multiple assignment\n",
    "x=float(input())\n",
    "y=float(input())\n",
    "x1=float(input())\n",
    "y1=float(input())\n",
    "x2=float(input())\n",
    "y2=float(input())\n",
    "FindPoint(x1, y1, x2,\n",
    "              y2, x, y) \n",
    "print(FindPoint(x1, y1, x2,\n",
    "              y2, x, y))"
   ]
  },
  {
   "cell_type": "markdown",
   "id": "e2663453",
   "metadata": {},
   "source": [
    "# 6. Write a function pig() that takes a word (i.e., a string) as input and returns its pigLatin form. Your function should still work if the input word contains upper case characters. Your output should always be lower case however."
   ]
  },
  {
   "cell_type": "code",
   "execution_count": 34,
   "id": "44bf5b25",
   "metadata": {},
   "outputs": [
    {
     "name": "stdout",
     "output_type": "stream",
     "text": [
      "appyhay\n",
      "enterway\n"
     ]
    }
   ],
   "source": [
    "def pig(rrr):\n",
    "    strrr = str.lower(rrr);\n",
    "    vowel = \"aeiou\"\n",
    "    \n",
    "    if (rrr[0] in vowel):\n",
    "        rrr = rrr + \"way\"\n",
    "        \n",
    "    else:\n",
    "        temp = rrr[0]\n",
    "        rrr = rrr[1:]\n",
    "        rrr = rrr + temp + \"ay\"\n",
    "    print(rrr);\n",
    "\n",
    "\n",
    "pig(\"happy\")\n",
    "pig(\"enter\")"
   ]
  },
  {
   "cell_type": "markdown",
   "id": "0bff78d9",
   "metadata": {},
   "source": [
    "# 7. File bloodtype1.txt records blood-types of patients (A, B, AB, O or OO) at a clinic. Write a function bldcount() that reads the file with name name and reports (i.e., prints) how many patients there are in each bloodtype."
   ]
  },
  {
   "cell_type": "code",
   "execution_count": 35,
   "id": "0fbd5020",
   "metadata": {},
   "outputs": [
    {
     "name": "stdout",
     "output_type": "stream",
     "text": [
      "There are  15 patients of blood type A\n",
      "There are  13 patients of blood type AB\n",
      "There are  1 patients of blood type b\n",
      "There are  15 patients of blood type O\n",
      "There are  0 patients of blood type OO\n"
     ]
    }
   ],
   "source": [
    "file = open(\"bloodtype.txt\",\"r\")\n",
    "bloodType = file.read().split(\" \")\n",
    "a = 0\n",
    "ab = 0\n",
    "b = 0\n",
    "o = 0\n",
    "oo = 0\n",
    "\n",
    "for bg in bloodType:\n",
    "    if bg == \"A\":\n",
    "        a += 1\n",
    "    elif bg == \"AB\":\n",
    "        ab += 1\n",
    "    elif bg == \"B\":\n",
    "        b += 1  \n",
    "    elif bg == \"O\":\n",
    "        o += 1\n",
    "    elif bg == \"OO\":\n",
    "        oo += 1 \n",
    "    elif bg == \"\\n\":\n",
    "        break\n",
    "\n",
    "\n",
    "print(\"There are \", a , \"patients of blood type A\" )\n",
    "print(\"There are \", ab , \"patients of blood type AB\" )\n",
    "print(\"There are \", b , \"patients of blood type b\" )\n",
    "print(\"There are \", o , \"patients of blood type O\" )\n",
    "print(\"There are \", oo , \"patients of blood type OO\" )"
   ]
  },
  {
   "cell_type": "markdown",
   "id": "4262df6d",
   "metadata": {},
   "source": [
    "# Q8. Write a function curconv() that takes as input:\n",
    "\n",
    "## 1. a currency represented using a string (e.g., 'JPY' for the Japanese Yen or 'EUR' for the Euro)\n",
    "\n",
    "## 2. an amount and then converts and returns the amount in US dollars."
   ]
  },
  {
   "cell_type": "code",
   "execution_count": 36,
   "id": "9f026586",
   "metadata": {},
   "outputs": [
    {
     "name": "stdout",
     "output_type": "stream",
     "text": [
      "122.96544\n",
      "1.241401\n"
     ]
    }
   ],
   "source": [
    "def curconv(currency,amount):\n",
    "    file = open(\"currencies.txt\", \"r\")\n",
    "    fileRead = file.readlines()\n",
    "    file.close()\n",
    "    for file in fileRead :\n",
    "        group = file.split()\n",
    "        if currency == group[0]:\n",
    "            rate = float(group[1])\n",
    "            value = amount * rate\n",
    "        \n",
    "    print(value)   \n",
    "        \n",
    "curconv('EUR',100)\n",
    "curconv('JPY',100)"
   ]
  },
  {
   "cell_type": "markdown",
   "id": "df706be4",
   "metadata": {},
   "source": [
    "# 9. Each of the following will cause an exception (an error). Identify what type of exception each will cause."
   ]
  },
  {
   "cell_type": "code",
   "execution_count": 37,
   "id": "86502b45",
   "metadata": {},
   "outputs": [
    {
     "ename": "SyntaxError",
     "evalue": "invalid syntax (76864853.py, line 1)",
     "output_type": "error",
     "traceback": [
      "\u001b[1;36m  Input \u001b[1;32mIn [37]\u001b[1;36m\u001b[0m\n\u001b[1;33m    Trying to add incompatible #variables, as in adding 6 + ‘a’ - TypeError\u001b[0m\n\u001b[1;37m           ^\u001b[0m\n\u001b[1;31mSyntaxError\u001b[0m\u001b[1;31m:\u001b[0m invalid syntax\n"
     ]
    }
   ],
   "source": [
    "Trying to add incompatible #variables, as in adding 6 + ‘a’ - TypeError\n",
    "6 + a\n",
    "\n",
    "Referring to the 12th item of a list that has only 10 items - IndexError\n",
    "\n",
    "Using a value that is out of range for a function’s input, such as calling math.sqrt(-1.0) - ValueError\n",
    "\n",
    "Using an undeclared variable, such as print(x) when x has not been defined - NameError\n",
    "\n",
    "Trying to open a file that does not exist, such as mistyping the file name or looking in the wrong directory. - FileNotFoundError\n"
   ]
  },
  {
   "cell_type": "markdown",
   "id": "73be5a21",
   "metadata": {},
   "source": [
    "# 10. Assume that the string letters is already defined as 'abcdefghijklmnopqrstuvwxyz'. Write a function called frequencies() that takes a string as its only parameter, and returns a list of integers, showing the number of times each character appears in the text. Your function may ignore any characters that are not in letters."
   ]
  },
  {
   "cell_type": "code",
   "execution_count": 39,
   "id": "ffe98bf0",
   "metadata": {},
   "outputs": [
    {
     "name": "stdout",
     "output_type": "stream",
     "text": [
      "[1, 0, 1, 2, 4, 0, 0, 0, 1, 0, 0, 1, 0, 2, 2, 2, 0, 1, 1, 1, 0, 1, 1, 0, 0, 0]\n",
      "[1, 0, 0, 0, 1, 0, 0, 0, 0, 0, 0, 1, 0, 0, 0, 2, 0, 0, 0, 0, 0, 0, 0, 0, 0, 0]\n"
     ]
    }
   ],
   "source": [
    "def frequencies(rrr):\n",
    "    letters = \"abcdefghijklmnopqrstuvwxyz\" \n",
    "    #arr = [0,0,0,0,0,0,0,0,0,0,0,0,0,0,0,0,0,0,0,0,0,0,0,0,0,0]\n",
    "    arr = [0] * 26\n",
    "    rrr = rrr.lower()\n",
    "    \n",
    "    for i in range(len(rrr)):\n",
    "        for j in range(len(letters)):\n",
    "            if(rrr[i] == letters[j]):\n",
    "                arr[j] = arr[j] + 1\n",
    "            j = j + 1\n",
    "        i = i + 1\n",
    "    print(arr)\n",
    "                \n",
    "frequencies(\"Newton discovered apple\")\n",
    "frequencies(\"apple\")"
   ]
  },
  {
   "cell_type": "code",
   "execution_count": null,
   "id": "85e7e384",
   "metadata": {},
   "outputs": [],
   "source": []
  }
 ],
 "metadata": {
  "kernelspec": {
   "display_name": "Python 3 (ipykernel)",
   "language": "python",
   "name": "python3"
  },
  "language_info": {
   "codemirror_mode": {
    "name": "ipython",
    "version": 3
   },
   "file_extension": ".py",
   "mimetype": "text/x-python",
   "name": "python",
   "nbconvert_exporter": "python",
   "pygments_lexer": "ipython3",
   "version": "3.9.12"
  }
 },
 "nbformat": 4,
 "nbformat_minor": 5
}
